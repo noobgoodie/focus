{
 "cells": [
  {
   "cell_type": "markdown",
   "metadata": {},
   "source": [
    "### Links\n",
    "- https://dadosabertos.bcb.gov.br/dataset/expectativas-mercado/resource/d420a704-75a7-4f45-8f4b-0fca813c70f0\n",
    "- https://olinda.bcb.gov.br/olinda/servico/Expectativas/versao/v1/documentacao"
   ]
  },
  {
   "cell_type": "code",
   "execution_count": 90,
   "metadata": {},
   "outputs": [
    {
     "name": "stdout",
     "output_type": "stream",
     "text": [
      "Baixando ...\n",
      "Salvando ...\n",
      "Qtde. Linhas: 10000\n"
     ]
    }
   ],
   "source": [
    "import pandas as pd\n",
    "\n",
    "url = ('https://olinda.bcb.gov.br/olinda/servico/'\n",
    "       'Expectativas/versao/v1/odata/ExpectativasMercadoAnuais?'\n",
    "       '$top=10000&'\n",
    "       '$format=text/csv&'\n",
    "       '$orderby=Data%20desc&'\n",
    "       #'$filter=DataReferencia%20eq%20'+\"'2022'\"+'&'\n",
    "       'select=Indicador,IndicadorDetalhe,Data,DataReferencia,Media,Mediana,DesvioPadrao,Minimo,Maximo,numeroRespondentes,baseCalculo'\n",
    "       )\n",
    "\n",
    "\n",
    "print('Baixando ...')\n",
    "df = pd.read_csv(url, decimal=\",\")\n",
    "\n",
    "print('Salvando ...')\n",
    "df.to_csv('focus.csv', index=False)\n",
    "\n",
    "print('Qtde. Linhas:', df.shape[0])\n"
   ]
  },
  {
   "cell_type": "code",
   "execution_count": 88,
   "metadata": {},
   "outputs": [
    {
     "data": {
      "text/html": [
       "<div>\n",
       "<style scoped>\n",
       "    .dataframe tbody tr th:only-of-type {\n",
       "        vertical-align: middle;\n",
       "    }\n",
       "\n",
       "    .dataframe tbody tr th {\n",
       "        vertical-align: top;\n",
       "    }\n",
       "\n",
       "    .dataframe thead th {\n",
       "        text-align: right;\n",
       "    }\n",
       "</style>\n",
       "<table border=\"1\" class=\"dataframe\">\n",
       "  <thead>\n",
       "    <tr style=\"text-align: right;\">\n",
       "      <th></th>\n",
       "      <th>Indicador</th>\n",
       "      <th>IndicadorDetalhe</th>\n",
       "      <th>Data</th>\n",
       "      <th>DataReferencia</th>\n",
       "      <th>Media</th>\n",
       "      <th>Mediana</th>\n",
       "      <th>DesvioPadrao</th>\n",
       "      <th>Minimo</th>\n",
       "      <th>Maximo</th>\n",
       "      <th>numeroRespondentes</th>\n",
       "      <th>baseCalculo</th>\n",
       "    </tr>\n",
       "  </thead>\n",
       "  <tbody>\n",
       "    <tr>\n",
       "      <th>0</th>\n",
       "      <td>Balança comercial</td>\n",
       "      <td>Exportações</td>\n",
       "      <td>2022-03-25</td>\n",
       "      <td>2022</td>\n",
       "      <td>300.9800</td>\n",
       "      <td>297.50</td>\n",
       "      <td>25.0766</td>\n",
       "      <td>270.00</td>\n",
       "      <td>355.0</td>\n",
       "      <td>8</td>\n",
       "      <td>1</td>\n",
       "    </tr>\n",
       "    <tr>\n",
       "      <th>1</th>\n",
       "      <td>Balança comercial</td>\n",
       "      <td>Exportações</td>\n",
       "      <td>2022-03-25</td>\n",
       "      <td>2023</td>\n",
       "      <td>298.1800</td>\n",
       "      <td>296.34</td>\n",
       "      <td>40.5361</td>\n",
       "      <td>245.00</td>\n",
       "      <td>370.0</td>\n",
       "      <td>6</td>\n",
       "      <td>1</td>\n",
       "    </tr>\n",
       "    <tr>\n",
       "      <th>2</th>\n",
       "      <td>Balança comercial</td>\n",
       "      <td>Exportações</td>\n",
       "      <td>2022-03-25</td>\n",
       "      <td>2024</td>\n",
       "      <td>303.3833</td>\n",
       "      <td>288.00</td>\n",
       "      <td>21.8615</td>\n",
       "      <td>287.85</td>\n",
       "      <td>334.3</td>\n",
       "      <td>3</td>\n",
       "      <td>1</td>\n",
       "    </tr>\n",
       "  </tbody>\n",
       "</table>\n",
       "</div>"
      ],
      "text/plain": [
       "           Indicador IndicadorDetalhe        Data  DataReferencia     Media  \\\n",
       "0  Balança comercial      Exportações  2022-03-25            2022  300.9800   \n",
       "1  Balança comercial      Exportações  2022-03-25            2023  298.1800   \n",
       "2  Balança comercial      Exportações  2022-03-25            2024  303.3833   \n",
       "\n",
       "   Mediana  DesvioPadrao  Minimo  Maximo  numeroRespondentes  baseCalculo  \n",
       "0   297.50       25.0766  270.00   355.0                   8            1  \n",
       "1   296.34       40.5361  245.00   370.0                   6            1  \n",
       "2   288.00       21.8615  287.85   334.3                   3            1  "
      ]
     },
     "execution_count": 88,
     "metadata": {},
     "output_type": "execute_result"
    }
   ],
   "source": [
    "import pandas as pd\n",
    "\n",
    "dff = pd.read_csv('focus.csv')\n",
    "# dff['week'] = pd.to_datetime(dff['Data']).dt.year*100 + pd.to_datetime(dff['Data']).dt.isocalendar().week\n",
    "# dff['dow'] = pd.to_datetime(dff['Data']).dt.dayofweek\n",
    "\n",
    "dff.to_csv('focus_ok.csv')\n",
    "dff.head(3)\n"
   ]
  },
  {
   "cell_type": "code",
   "execution_count": 89,
   "metadata": {},
   "outputs": [
    {
     "data": {
      "text/plain": [
       "array(['Balança comercial', 'Conta corrente', 'Resultado primário',\n",
       "       'PIB Agropecuária', 'PIB Indústria', 'PIB Serviços', 'PIB Total',\n",
       "       'IPCA Administrados', 'Investimento direto no país',\n",
       "       'Resultado nominal', 'Dívida líquida do setor público',\n",
       "       'Dívida bruta do governo geral', 'IGP-M', 'IPCA', 'Selic',\n",
       "       'Câmbio', 'Taxa de desocupação',\n",
       "       'PIB Despesa de consumo da administração pública',\n",
       "       'PIB Formação Bruta de Capital Fixo',\n",
       "       'PIB Exportação de bens e serviços',\n",
       "       'PIB Importação de bens e serviços', 'IPCA Livres',\n",
       "       'IPCA Serviços', 'IPCA Bens industrializados',\n",
       "       'IPCA Alimentação no domicílio',\n",
       "       'PIB Despesa de consumo das famílias'], dtype=object)"
      ]
     },
     "execution_count": 89,
     "metadata": {},
     "output_type": "execute_result"
    }
   ],
   "source": [
    "dff.Indicador.unique()"
   ]
  },
  {
   "cell_type": "code",
   "execution_count": null,
   "metadata": {},
   "outputs": [],
   "source": []
  },
  {
   "cell_type": "code",
   "execution_count": null,
   "metadata": {},
   "outputs": [],
   "source": [
    "# import numpy as np\n",
    "\n",
    "# dff2 = dff[\n",
    "#         (dff.Indicador=='IPCA') &\n",
    "#         (dff.DataReferencia == 2021) &\n",
    "#         (dff.baseCalculo == 0)\n",
    "#     ]\n",
    "# idx = dff2.groupby(['week'])['dow'].transform(max) == dff2['dow']\n",
    "# df  = dff2[idx]\n",
    "# df['Data'] = df['Data'].astype(np.datetime64)\n",
    "# df"
   ]
  },
  {
   "cell_type": "code",
   "execution_count": null,
   "metadata": {},
   "outputs": [],
   "source": [
    "# from datetime import datetime\n",
    "# date_ini = datetime(2021, 1, 1).date()\n",
    "# print(type(date_ini))\n",
    "# datetime_ini = datetime.combine(date_ini, datetime.min.time())\n",
    "# print(datetime_ini)\n"
   ]
  },
  {
   "cell_type": "code",
   "execution_count": null,
   "metadata": {},
   "outputs": [],
   "source": [
    "# import numpy as np\n",
    "# import pandas as pd\n",
    "\n",
    "# url = ('https://olinda.bcb.gov.br/olinda/servico/'\n",
    "#        'PTAX/versao/v1/odata/CotacaoDolarPeriodo'\n",
    "#        '(dataInicial=@dataInicial,dataFinalCotacao=@dataFinalCotacao)?'\n",
    "#        \"@dataInicial='01-01-1900'&@dataFinalCotacao='12-31-2029'&\"\n",
    "#        '$format=text/csv&'\n",
    "#        '$select=dataHoraCotacao,cotacaoCompra,cotacaoVenda')\n",
    "\n",
    "# print('Baixando ...')\n",
    "# df2 = pd.read_csv(url, decimal=\",\")\n",
    "\n",
    "# print('Salvando ...')\n",
    "# df2.to_csv('../Estudos/data_BC/dolar.csv', index=False) #, compression='zip')\n",
    "\n",
    "# print('Qtde. Linhas:', df2.shape[0])"
   ]
  }
 ],
 "metadata": {
  "interpreter": {
   "hash": "faf6c69920549bf4550f22612c1be009aa34314c4fa03cee7be9173d849af02c"
  },
  "kernelspec": {
   "display_name": "Python 3.9.9 64-bit (windows store)",
   "language": "python",
   "name": "python3"
  },
  "language_info": {
   "codemirror_mode": {
    "name": "ipython",
    "version": 3
   },
   "file_extension": ".py",
   "mimetype": "text/x-python",
   "name": "python",
   "nbconvert_exporter": "python",
   "pygments_lexer": "ipython3",
   "version": "3.9.12"
  },
  "orig_nbformat": 4
 },
 "nbformat": 4,
 "nbformat_minor": 2
}
