{
 "cells": [
  {
   "cell_type": "markdown",
   "metadata": {},
   "source": [
    "### Links\n",
    "- https://dadosabertos.bcb.gov.br/dataset/expectativas-mercado/resource/d420a704-75a7-4f45-8f4b-0fca813c70f0\n",
    "- https://olinda.bcb.gov.br/olinda/servico/Expectativas/versao/v1/documentacao"
   ]
  },
  {
   "cell_type": "code",
   "execution_count": null,
   "metadata": {},
   "outputs": [],
   "source": [
    "import pandas as pd\n",
    "from IPython.display import display\n",
    "\n",
    "\n",
    "# ------------------------------------------------------------------\n",
    "parameters_total = '$format=text/csv&select=Indicador,IndicadorDetalhe,Data,DataReferencia,Media,Mediana,DesvioPadrao,Minimo,Maximo,numeroRespondentes,baseCalculo'\n",
    "parameters_filter = '$top=10000&$format=text/csv&$orderby=Data%20desc&select=Indicador,IndicadorDetalhe,Data,DataReferencia,Media,Mediana,DesvioPadrao,Minimo,Maximo,numeroRespondentes,baseCalculo'\n",
    "\n",
    "\n",
    "def getFocusData(parameters, filename):\n",
    "    url = ('https://olinda.bcb.gov.br/olinda/servico/'\n",
    "           'Expectativas/versao/v1/odata/ExpectativasMercadoAnuais?'+parameters\n",
    "           )\n",
    "\n",
    "    dffocus = pd.read_csv(url, decimal=\",\")\n",
    "    dffocus.to_csv(filename, index=False)\n",
    "\n",
    "    return dffocus\n",
    "\n",
    "\n",
    "# ------------------------------------------------------------------\n",
    "def removeFocusLastMonth(dffocus):\n",
    "    dffocus_lessmonth = dffocus.copy()\n",
    "\n",
    "    dffocus_tmp = dffocus.copy()\n",
    "    dffocus_tmp['Data'] = pd.to_datetime(\n",
    "        dffocus_tmp['Data'], format='%y-%m-%d', infer_datetime_format=True)\n",
    "\n",
    "    dfcolumndata = dffocus_tmp['Data']\n",
    "    dffocus_lessmonth.drop(\n",
    "        dfcolumndata[dffocus_tmp['Data'] >= '2022-03-01'].index, inplace=True, axis=0)\n",
    "\n",
    "    return(dffocus_lessmonth)\n",
    "\n",
    "\n",
    "# ------------------------------------------------------------------\n",
    "def addFocusColumns(dftotalfocus_lessmonth, dffocus_filter, filename):\n",
    "    dffocus_added = dftotalfocus_lessmonth.append(\n",
    "        dffocus_filter, ignore_index=True)\n",
    "    dffocus_added = dffocus_added.drop_duplicates()\n",
    "    dffocus_added.to_csv(filename, index=False)\n",
    "\n",
    "\n",
    "# compares final result to verify data integrity\n",
    "# ------------------------------------------------------------------\n",
    "def compareFocusData(filename1, filename2, filename3, filename4):\n",
    "    df_completo = pd.read_csv(filename1)\n",
    "    df_completo = df_completo.sort_values(\n",
    "        by=['Indicador', 'Data'], ignore_index=True)\n",
    "    # save to disk for binary comparing\n",
    "    df_completo.to_csv(filename2, index=False)\n",
    "\n",
    "    df_somado_semdup = pd.read_csv(filename3)\n",
    "    df_somado_semdup = df_somado_semdup.sort_values(\n",
    "        by=['Indicador', 'Data'], ignore_index=True)\n",
    "    # save to disk for binary comparing\n",
    "    df_somado_semdup.to_csv(filename4, index=False)\n",
    "\n",
    "    # compares dataframes\n",
    "    df_completo.equals(df_somado_semdup)\n",
    "\n",
    "\n",
    "# MAIN\n",
    "# ------------------------------------------------------------------\n",
    "dftotalfocus = getFocusData(parameters_total, 'ftotal.csv')\n",
    "dftotalfocus_lessmonth = removeFocusLastMonth(dftotalfocus)\n",
    "dffocus_filter = getFocusData(parameters_filter, 'ffilter.csv')\n",
    "addFocusColumns(dftotalfocus_lessmonth, dffocus_filter, 'ffinal.csv')\n",
    "compareFocusData('ftotal.csv', 'ftotaltocompare.csv',\n",
    "                 'ffinal.csv', 'ffinaltocompare.csv')\n"
   ]
  }
 ],
 "metadata": {
  "interpreter": {
   "hash": "faf6c69920549bf4550f22612c1be009aa34314c4fa03cee7be9173d849af02c"
  },
  "kernelspec": {
   "display_name": "Python 3.9.9 64-bit (windows store)",
   "language": "python",
   "name": "python3"
  },
  "language_info": {
   "codemirror_mode": {
    "name": "ipython",
    "version": 3
   },
   "file_extension": ".py",
   "mimetype": "text/x-python",
   "name": "python",
   "nbconvert_exporter": "python",
   "pygments_lexer": "ipython3",
   "version": "3.9.12"
  },
  "orig_nbformat": 4
 },
 "nbformat": 4,
 "nbformat_minor": 2
}
