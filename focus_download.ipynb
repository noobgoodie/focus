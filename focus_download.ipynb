{
 "cells": [
  {
   "cell_type": "markdown",
   "metadata": {},
   "source": [
    "### Links\n",
    "- https://dadosabertos.bcb.gov.br/dataset/expectativas-mercado/resource/d420a704-75a7-4f45-8f4b-0fca813c70f0\n",
    "- https://olinda.bcb.gov.br/olinda/servico/Expectativas/versao/v1/documentacao"
   ]
  },
  {
   "cell_type": "code",
   "execution_count": null,
   "metadata": {},
   "outputs": [],
   "source": [
    "import pandas as pd\n",
    "\n",
    "url = ('https://olinda.bcb.gov.br/olinda/servico/'\n",
    "       'Expectativas/versao/v1/odata/ExpectativasMercadoAnuais?'\n",
    "    #    '$top=100&'\n",
    "       '$format=text/csv&'\n",
    "       'select=Indicador,IndicadorDetalhe,Data,DataReferencia,Media,Mediana,DesvioPadrao,Minimo,Maximo,numeroRespondentes,baseCalculo'\n",
    "    )\n",
    "\n",
    "print('Baixando ...')\n",
    "df = pd.read_csv(url, decimal=\",\")\n",
    "\n",
    "print('Salvando ...')\n",
    "df.to_csv('../data/focus.csv', index=False, compression='zip')\n",
    "\n",
    "print('Qtde. Linhas:', df.shape[0])"
   ]
  },
  {
   "cell_type": "code",
   "execution_count": 2,
   "metadata": {},
   "outputs": [
    {
     "name": "stderr",
     "output_type": "stream",
     "text": [
      "C:\\Users\\Rogerup\\AppData\\Local\\Packages\\PythonSoftwareFoundation.Python.3.9_qbz5n2kfra8p0\\LocalCache\\local-packages\\Python39\\site-packages\\IPython\\core\\interactiveshell.py:3441: DtypeWarning: Columns (1) have mixed types.Specify dtype option on import or set low_memory=False.\n",
      "  exec(code_obj, self.user_global_ns, self.user_ns)\n"
     ]
    },
    {
     "data": {
      "text/html": [
       "<div>\n",
       "<style scoped>\n",
       "    .dataframe tbody tr th:only-of-type {\n",
       "        vertical-align: middle;\n",
       "    }\n",
       "\n",
       "    .dataframe tbody tr th {\n",
       "        vertical-align: top;\n",
       "    }\n",
       "\n",
       "    .dataframe thead th {\n",
       "        text-align: right;\n",
       "    }\n",
       "</style>\n",
       "<table border=\"1\" class=\"dataframe\">\n",
       "  <thead>\n",
       "    <tr style=\"text-align: right;\">\n",
       "      <th></th>\n",
       "      <th>Indicador</th>\n",
       "      <th>IndicadorDetalhe</th>\n",
       "      <th>Data</th>\n",
       "      <th>DataReferencia</th>\n",
       "      <th>Media</th>\n",
       "      <th>Mediana</th>\n",
       "      <th>DesvioPadrao</th>\n",
       "      <th>Minimo</th>\n",
       "      <th>Maximo</th>\n",
       "      <th>numeroRespondentes</th>\n",
       "      <th>baseCalculo</th>\n",
       "    </tr>\n",
       "  </thead>\n",
       "  <tbody>\n",
       "    <tr>\n",
       "      <th>0</th>\n",
       "      <td>Balança comercial</td>\n",
       "      <td>Exportações</td>\n",
       "      <td>2001-11-06</td>\n",
       "      <td>2001</td>\n",
       "      <td>58.54</td>\n",
       "      <td>58.3</td>\n",
       "      <td>1.21</td>\n",
       "      <td>55.4</td>\n",
       "      <td>64.15</td>\n",
       "      <td>NaN</td>\n",
       "      <td>0</td>\n",
       "    </tr>\n",
       "    <tr>\n",
       "      <th>1</th>\n",
       "      <td>Balança comercial</td>\n",
       "      <td>Exportações</td>\n",
       "      <td>2001-11-06</td>\n",
       "      <td>2002</td>\n",
       "      <td>61.17</td>\n",
       "      <td>61.0</td>\n",
       "      <td>2.13</td>\n",
       "      <td>56.6</td>\n",
       "      <td>66.00</td>\n",
       "      <td>NaN</td>\n",
       "      <td>0</td>\n",
       "    </tr>\n",
       "    <tr>\n",
       "      <th>2</th>\n",
       "      <td>Balança comercial</td>\n",
       "      <td>Exportações</td>\n",
       "      <td>2001-11-06</td>\n",
       "      <td>2003</td>\n",
       "      <td>66.82</td>\n",
       "      <td>67.7</td>\n",
       "      <td>3.26</td>\n",
       "      <td>62.1</td>\n",
       "      <td>71.70</td>\n",
       "      <td>NaN</td>\n",
       "      <td>0</td>\n",
       "    </tr>\n",
       "  </tbody>\n",
       "</table>\n",
       "</div>"
      ],
      "text/plain": [
       "           Indicador IndicadorDetalhe        Data  DataReferencia  Media  \\\n",
       "0  Balança comercial      Exportações  2001-11-06            2001  58.54   \n",
       "1  Balança comercial      Exportações  2001-11-06            2002  61.17   \n",
       "2  Balança comercial      Exportações  2001-11-06            2003  66.82   \n",
       "\n",
       "   Mediana  DesvioPadrao  Minimo  Maximo  numeroRespondentes  baseCalculo  \n",
       "0     58.3          1.21    55.4   64.15                 NaN            0  \n",
       "1     61.0          2.13    56.6   66.00                 NaN            0  \n",
       "2     67.7          3.26    62.1   71.70                 NaN            0  "
      ]
     },
     "execution_count": 2,
     "metadata": {},
     "output_type": "execute_result"
    }
   ],
   "source": [
    "import pandas as pd\n",
    "\n",
    "dff = pd.read_csv('../data/focus.csv', compression='zip')\n",
    "# dff['week'] = pd.to_datetime(dff['Data']).dt.year*100 + pd.to_datetime(dff['Data']).dt.isocalendar().week\n",
    "# dff['dow'] = pd.to_datetime(dff['Data']).dt.dayofweek\n",
    "\n",
    "dff.to_csv('../data/focus_ok.csv')\n",
    "dff.head(3)\n"
   ]
  },
  {
   "cell_type": "code",
   "execution_count": 4,
   "metadata": {},
   "outputs": [
    {
     "data": {
      "text/plain": [
       "array(['Balança comercial', 'Conta corrente', 'Resultado primário',\n",
       "       'IPCA-15', 'PIB Agropecuária', 'PIB Indústria', 'PIB Serviços',\n",
       "       'PIB Total', 'IPCA Administrados', 'Investimento direto no país',\n",
       "       'Resultado nominal', 'Dívida líquida do setor público',\n",
       "       'Dívida bruta do governo geral', 'IGP-DI', 'IGP-M', 'INPC',\n",
       "       'IPA-DI', 'IPA-M', 'IPCA', 'IPC-Fipe', 'Produção industrial',\n",
       "       'Selic', 'Câmbio', 'Taxa de desocupação',\n",
       "       'PIB Despesa de consumo da administração pública',\n",
       "       'PIB Formação Bruta de Capital Fixo',\n",
       "       'PIB Exportação de bens e serviços',\n",
       "       'PIB Importação de bens e serviços', 'IPCA Livres',\n",
       "       'IPCA Serviços', 'IPCA Bens industrializados',\n",
       "       'IPCA Alimentação no domicílio',\n",
       "       'PIB Despesa de consumo das famílias'], dtype=object)"
      ]
     },
     "execution_count": 4,
     "metadata": {},
     "output_type": "execute_result"
    }
   ],
   "source": [
    "dff.Indicador.unique()"
   ]
  },
  {
   "cell_type": "code",
   "execution_count": null,
   "metadata": {},
   "outputs": [],
   "source": []
  },
  {
   "cell_type": "code",
   "execution_count": null,
   "metadata": {},
   "outputs": [],
   "source": [
    "# import numpy as np\n",
    "\n",
    "# dff2 = dff[\n",
    "#         (dff.Indicador=='IPCA') &\n",
    "#         (dff.DataReferencia == 2021) &\n",
    "#         (dff.baseCalculo == 0)\n",
    "#     ]\n",
    "# idx = dff2.groupby(['week'])['dow'].transform(max) == dff2['dow']\n",
    "# df  = dff2[idx]\n",
    "# df['Data'] = df['Data'].astype(np.datetime64)\n",
    "# df"
   ]
  },
  {
   "cell_type": "code",
   "execution_count": null,
   "metadata": {},
   "outputs": [],
   "source": [
    "# from datetime import datetime\n",
    "# date_ini = datetime(2021, 1, 1).date()\n",
    "# print(type(date_ini))\n",
    "# datetime_ini = datetime.combine(date_ini, datetime.min.time())\n",
    "# print(datetime_ini)\n"
   ]
  },
  {
   "cell_type": "code",
   "execution_count": null,
   "metadata": {},
   "outputs": [],
   "source": [
    "# import numpy as np\n",
    "# import pandas as pd\n",
    "\n",
    "# url = ('https://olinda.bcb.gov.br/olinda/servico/'\n",
    "#        'PTAX/versao/v1/odata/CotacaoDolarPeriodo'\n",
    "#        '(dataInicial=@dataInicial,dataFinalCotacao=@dataFinalCotacao)?'\n",
    "#        \"@dataInicial='01-01-1900'&@dataFinalCotacao='12-31-2029'&\"\n",
    "#        '$format=text/csv&'\n",
    "#        '$select=dataHoraCotacao,cotacaoCompra,cotacaoVenda')\n",
    "\n",
    "# print('Baixando ...')\n",
    "# df2 = pd.read_csv(url, decimal=\",\")\n",
    "\n",
    "# print('Salvando ...')\n",
    "# df2.to_csv('../Estudos/data_BC/dolar.csv', index=False) #, compression='zip')\n",
    "\n",
    "# print('Qtde. Linhas:', df2.shape[0])"
   ]
  }
 ],
 "metadata": {
  "interpreter": {
   "hash": "faf6c69920549bf4550f22612c1be009aa34314c4fa03cee7be9173d849af02c"
  },
  "kernelspec": {
   "display_name": "Python 3.9.9 64-bit (windows store)",
   "language": "python",
   "name": "python3"
  },
  "language_info": {
   "codemirror_mode": {
    "name": "ipython",
    "version": 3
   },
   "file_extension": ".py",
   "mimetype": "text/x-python",
   "name": "python",
   "nbconvert_exporter": "python",
   "pygments_lexer": "ipython3",
   "version": "3.9.12"
  },
  "orig_nbformat": 4
 },
 "nbformat": 4,
 "nbformat_minor": 2
}
