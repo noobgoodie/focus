{
 "cells": [
  {
   "cell_type": "markdown",
   "metadata": {},
   "source": [
    "### Links\n",
    "- https://dadosabertos.bcb.gov.br/dataset/expectativas-mercado/resource/d420a704-75a7-4f45-8f4b-0fca813c70f0\n",
    "- https://olinda.bcb.gov.br/olinda/servico/Expectativas/versao/v1/documentacao"
   ]
  },
  {
   "cell_type": "code",
   "execution_count": null,
   "metadata": {},
   "outputs": [],
   "source": [
    "# FOCUS completo\n",
    "\n",
    "import pandas as pd\n",
    "\n",
    "url = ('https://olinda.bcb.gov.br/olinda/servico/'\n",
    "       'Expectativas/versao/v1/odata/ExpectativasMercadoAnuais?'\n",
    "       '$format=text/csv&'\n",
    "       'select=Indicador,IndicadorDetalhe,Data,DataReferencia,Media,Mediana,DesvioPadrao,Minimo,Maximo,numeroRespondentes,baseCalculo'\n",
    "       )\n",
    "\n",
    "print('Baixando ...')\n",
    "dffocus = pd.read_csv(url, decimal=\",\")\n",
    "\n",
    "print('Salvando ...')\n",
    "dffocus.to_csv('focus_completo.csv', index=False)\n",
    "\n",
    "print('Qtde. Linhas:', dffocus.shape[0])\n"
   ]
  },
  {
   "cell_type": "code",
   "execution_count": null,
   "metadata": {},
   "outputs": [],
   "source": [
    "# FOCUS com ultimo mes excluido\n",
    "\n",
    "dffocus_lessmonth = dffocus.copy()\n",
    "\n",
    "# dffocus_tmp used to avoid changing the type of field Data\n",
    "dffocus_tmp = dffocus.copy()\n",
    "dffocus_tmp['Data'] = pd.to_datetime(dffocus_tmp['Data'], format='%y-%m-%d', infer_datetime_format=True)\n",
    "\n",
    "dfcolumndata = dffocus_tmp['Data']\n",
    "dffocus_lessmonth.drop(dfcolumndata[dffocus_tmp['Data'] >= '2022-03-01'].index, inplace=True, axis=0)\n",
    "\n",
    "dffocus_lessmonth.to_csv('focus_sem_ultimo_mes.csv', index=False)\n",
    "\n",
    "dffocus_lessmonth"
   ]
  },
  {
   "cell_type": "code",
   "execution_count": null,
   "metadata": {},
   "outputs": [],
   "source": [
    "# FOCUS com dados filtrados\n",
    "\n",
    "url = ('https://olinda.bcb.gov.br/olinda/servico/'\n",
    "       'Expectativas/versao/v1/odata/ExpectativasMercadoAnuais?'\n",
    "       '$top=10000&'\n",
    "       '$format=text/csv&'\n",
    "       '$orderby=Data%20desc&'\n",
    "       #'$filter=DataReferencia%20eq%20'+\"'2022'\"+'&'\n",
    "       'select=Indicador,IndicadorDetalhe,Data,DataReferencia,Media,Mediana,DesvioPadrao,Minimo,Maximo,numeroRespondentes,baseCalculo'\n",
    "       )\n",
    "\n",
    "\n",
    "print('Baixando ...')\n",
    "dffocus_filter = pd.read_csv(url, decimal=\",\")\n",
    "\n",
    "print('Salvando ...')\n",
    "dffocus_filter.to_csv('focus_filtrado.csv', index=False)\n",
    "\n",
    "print('Qtde. Linhas:', dffocus_filter.shape[0])\n",
    "\n",
    "dffocus_filter\n"
   ]
  },
  {
   "cell_type": "code",
   "execution_count": null,
   "metadata": {},
   "outputs": [],
   "source": [
    "# soma dos dados focus de \"ultimo mes excluido\" com \"dados filtrados\"\n",
    "\n",
    "dffocus_added = dffocus_lessmonth.append(dffocus_filter, ignore_index=True)\n",
    "dffocus_added.to_csv('focus_somado.csv', index=False)\n",
    "dffocus_added\n"
   ]
  },
  {
   "cell_type": "code",
   "execution_count": null,
   "metadata": {},
   "outputs": [],
   "source": [
    "# remover duplicidades com removeDuplicates\n",
    "\n",
    "dffocus_added_notdup = dffocus_added.copy()\n",
    "dffocus_added_notdup = dffocus_added_notdup.drop_duplicates()\n",
    "dffocus_added_notdup.to_csv('focus_somado_semdup.csv', index=False)\n",
    "dffocus_added_notdup"
   ]
  },
  {
   "cell_type": "code",
   "execution_count": null,
   "metadata": {},
   "outputs": [],
   "source": [
    "from IPython.display import display\n",
    "\n",
    "# ordenar arquivos antes da comparacao\n",
    "df_completo = pd.read_csv('focus_completo.csv')\n",
    "df_completo = df_completo.sort_values(by=['Indicador','Data'], ignore_index=True)\n",
    "display(df_completo)\n",
    "\n",
    "df_somado_semdup = pd.read_csv('focus_somado_semdup.csv')\n",
    "df_somado_semdup = df_somado_semdup.sort_values(by=['Indicador','Data'], ignore_index=True)\n",
    "display(df_somado_semdup)\n",
    "\n",
    "# compara os dataframes retornando False para a comparacao entre valores NaN\n",
    "display(df_completo == df_somado_semdup)\n",
    "\n",
    "# compara os dataframes corretamente, ignorando os NaN\n",
    "df_completo.equals(df_somado_semdup)\n",
    "\n"
   ]
  },
  {
   "cell_type": "code",
   "execution_count": null,
   "metadata": {},
   "outputs": [],
   "source": [
    "import pandas as pd\n",
    "\n",
    "dff = pd.read_csv('focus.csv')\n",
    "# dff['week'] = pd.to_datetime(dff['Data']).dt.year*100 + pd.to_datetime(dff['Data']).dt.isocalendar().week\n",
    "# dff['dow'] = pd.to_datetime(dff['Data']).dt.dayofweek\n",
    "\n",
    "dff.to_csv('focus_ok.csv')\n",
    "dff.head(3)\n"
   ]
  },
  {
   "cell_type": "code",
   "execution_count": null,
   "metadata": {},
   "outputs": [],
   "source": [
    "dff.Indicador.unique()"
   ]
  },
  {
   "cell_type": "code",
   "execution_count": null,
   "metadata": {},
   "outputs": [],
   "source": [
    "# import numpy as np\n",
    "\n",
    "# dff2 = dff[\n",
    "#         (dff.Indicador=='IPCA') &\n",
    "#         (dff.DataReferencia == 2021) &\n",
    "#         (dff.baseCalculo == 0)\n",
    "#     ]\n",
    "# idx = dff2.groupby(['week'])['dow'].transform(max) == dff2['dow']\n",
    "# df  = dff2[idx]\n",
    "# df['Data'] = df['Data'].astype(np.datetime64)\n",
    "# df"
   ]
  },
  {
   "cell_type": "code",
   "execution_count": null,
   "metadata": {},
   "outputs": [],
   "source": [
    "# from datetime import datetime\n",
    "# date_ini = datetime(2021, 1, 1).date()\n",
    "# print(type(date_ini))\n",
    "# datetime_ini = datetime.combine(date_ini, datetime.min.time())\n",
    "# print(datetime_ini)\n"
   ]
  },
  {
   "cell_type": "code",
   "execution_count": null,
   "metadata": {},
   "outputs": [],
   "source": [
    "# import numpy as np\n",
    "# import pandas as pd\n",
    "\n",
    "# url = ('https://olinda.bcb.gov.br/olinda/servico/'\n",
    "#        'PTAX/versao/v1/odata/CotacaoDolarPeriodo'\n",
    "#        '(dataInicial=@dataInicial,dataFinalCotacao=@dataFinalCotacao)?'\n",
    "#        \"@dataInicial='01-01-1900'&@dataFinalCotacao='12-31-2029'&\"\n",
    "#        '$format=text/csv&'\n",
    "#        '$select=dataHoraCotacao,cotacaoCompra,cotacaoVenda')\n",
    "\n",
    "# print('Baixando ...')\n",
    "# df2 = pd.read_csv(url, decimal=\",\")\n",
    "\n",
    "# print('Salvando ...')\n",
    "# df2.to_csv('../Estudos/data_BC/dolar.csv', index=False) #, compression='zip')\n",
    "\n",
    "# print('Qtde. Linhas:', df2.shape[0])"
   ]
  }
 ],
 "metadata": {
  "interpreter": {
   "hash": "faf6c69920549bf4550f22612c1be009aa34314c4fa03cee7be9173d849af02c"
  },
  "kernelspec": {
   "display_name": "Python 3.9.9 64-bit (windows store)",
   "language": "python",
   "name": "python3"
  },
  "language_info": {
   "codemirror_mode": {
    "name": "ipython",
    "version": 3
   },
   "file_extension": ".py",
   "mimetype": "text/x-python",
   "name": "python",
   "nbconvert_exporter": "python",
   "pygments_lexer": "ipython3",
   "version": "3.9.12"
  },
  "orig_nbformat": 4
 },
 "nbformat": 4,
 "nbformat_minor": 2
}
